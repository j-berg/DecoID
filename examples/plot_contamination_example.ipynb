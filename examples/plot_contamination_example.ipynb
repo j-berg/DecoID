{
 "cells": [
  {
   "cell_type": "code",
   "execution_count": 8,
   "metadata": {},
   "outputs": [],
   "source": [
    "from DecoID.DecoID import DecoID\n",
    "import matplotlib.pyplot as plt\n",
    "\n",
    "#sets database to use\n",
    "\n",
    "libFile = \"../databases/HMDB_experimental.db\"\n",
    "\n",
    "key = \"none\"\n",
    "\n",
    "mzCloudLib = \"reference\"\n",
    "\n",
    "numCores = 4\n",
    "\n",
    "#filename of query MS/MS data\n",
    "file = \"../exampleData/mzMLs/IROA_P1-6_ddMS2_pos_1Da.mzML\"\n",
    "\n",
    "#filename of peak list\n",
    "\n",
    "peakFile = \"../exampleData/IROA_p1-6_peak_table_pos_v3.csv\"\n",
    "\n",
    "#set parameters\n",
    "usePeaks = True\n",
    "DDA = True #data is DDA\n",
    "massAcc = 10 #ppm tolerance\n",
    "fragThresh= 0.01 #require non-zero dot product threshold\n",
    "offset = .5 #half of isolation window width. Only for non-thermo data\n",
    "useIso = True #use predicted M+1 isotopolgoue spectra\n",
    "threshold = 0 #minimum dot product for reporting\n",
    "lam = 5.0 #LASSO parameter\n",
    "rtTol = float(\"inf\") #retention time tolerance for database, inf means ignore RT\n",
    "fragCutoff = 1000 #intensity threshold for MS/MS peaks\n",
    "\n"
   ]
  },
  {
   "cell_type": "code",
   "execution_count": 3,
   "metadata": {},
   "outputs": [
    {
     "name": "stdout",
     "output_type": "stream",
     "text": [
      "Library loaded successfully: 5944 spectra found\n",
      "10127  MS2 spectra detected\n",
      "Number of compounds with acquired MS2:  212\n",
      "Number of spectra to deconvolve:  1983\n"
     ]
    }
   ],
   "source": [
    "if __name__ == '__main__':\n",
    "\n",
    "    #create DecoID object\n",
    "    decID = DecoID(libFile, mzCloudLib, numCores,api_key=key)\n",
    "    #read in data\n",
    "    decID.readData(file, 2, usePeaks, DDA, massAcc,offset,peakDefinitions=peakFile,frag_cutoff=fragCutoff)\n",
    "\n"
   ]
  },
  {
   "cell_type": "code",
   "execution_count": 5,
   "metadata": {},
   "outputs": [],
   "source": [
    "contam = [x[\"percentContamination\"] for x in decID.samples]"
   ]
  },
  {
   "cell_type": "code",
   "execution_count": 11,
   "metadata": {},
   "outputs": [
    {
     "data": {
      "text/plain": [
       "Text(0, 0.5, '# of MS/MS spectra')"
      ]
     },
     "execution_count": 11,
     "metadata": {},
     "output_type": "execute_result"
    },
    {
     "data": {
      "image/png": "[encoded data removed]",
      "text/plain": [
       "<Figure size 432x288 with 1 Axes>"
      ]
     },
     "metadata": {
      "needs_background": "light"
     },
     "output_type": "display_data"
    }
   ],
   "source": [
    "plt.hist(contam)\n",
    "plt.xlabel(\"% contamination\")\n",
    "plt.ylabel(\"# of MS/MS spectra\")"
   ]
  },
  {
   "cell_type": "code",
   "execution_count": null,
   "metadata": {},
   "outputs": [],
   "source": []
  }
 ],
 "metadata": {
  "kernelspec": {
   "display_name": "Python 3",
   "language": "python",
   "name": "python3"
  },
  "language_info": {
   "codemirror_mode": {
    "name": "ipython",
    "version": 3
   },
   "file_extension": ".py",
   "mimetype": "text/x-python",
   "name": "python",
   "nbconvert_exporter": "python",
   "pygments_lexer": "ipython3",
   "version": "3.7.6"
  }
 },
 "nbformat": 4,
 "nbformat_minor": 4
}
